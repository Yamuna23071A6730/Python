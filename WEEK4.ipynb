{
  "metadata": {
    "kernelspec": {
      "name": "python",
      "display_name": "Python (Pyodide)",
      "language": "python"
    },
    "language_info": {
      "codemirror_mode": {
        "name": "python",
        "version": 3
      },
      "file_extension": ".py",
      "mimetype": "text/x-python",
      "name": "python",
      "nbconvert_exporter": "python",
      "pygments_lexer": "ipython3",
      "version": "3.8"
    }
  },
  "nbformat_minor": 4,
  "nbformat": 4,
  "cells": [
    {
      "cell_type": "code",
      "source": "def is_sorted(lis):\n    sorted_list=sorted(lis)\n    if(sorted_list==lis):\n        print(\"TRUE\")\n    else:\n        print(\"FALSE\")\n        \nlist1=[1,2,3,4,5]\nlist2=[6,3,8,1,9]\nis_sorted(list1)\nis_sorted(list2)",
      "metadata": {
        "trusted": true
      },
      "outputs": [
        {
          "execution_count": 17,
          "output_type": "execute_result",
          "data": {
            "text/plain": "False"
          },
          "metadata": {}
        }
      ],
      "execution_count": 17
    },
    {
      "cell_type": "code",
      "source": "def has_duplicates(lis):\n    return len(lis) != len(set(lis))\n    \nlist3=[1,3,2,3,6,1,8]\nhas_duplicates(list3)",
      "metadata": {
        "trusted": true
      },
      "outputs": [
        {
          "execution_count": 22,
          "output_type": "execute_result",
          "data": {
            "text/plain": "True"
          },
          "metadata": {}
        }
      ],
      "execution_count": 22
    },
    {
      "cell_type": "code",
      "source": "def remove_duplicates(lis):\n    new_list=set(lis)\n    print(new_list)\n\nremove_duplicates(list3)",
      "metadata": {
        "trusted": true
      },
      "outputs": [
        {
          "name": "stdout",
          "text": "{1, 2, 3, 6, 8}\n",
          "output_type": "stream"
        }
      ],
      "execution_count": 23
    },
    {
      "cell_type": "code",
      "source": "def reverse(dic):\n    reverse_dict={y:x for x,y in dic.items()}\n    print(reverse_dict)\ndic = {\n    \"name\":\"John\",\n    \"age\": 18,\n    \"branch\":\"DS\"\n}\nprint(dic)\nreverse(dic)",
      "metadata": {
        "trusted": true
      },
      "outputs": [
        {
          "name": "stdout",
          "text": "{'name': 'John', 'age': 18, 'branch': 'DS'}\n{'John': 'name', 18: 'age', 'DS': 'branch'}\n",
          "output_type": "stream"
        }
      ],
      "execution_count": 41
    },
    {
      "cell_type": "code",
      "source": "new_word=','.join(x for x in \"Apple\")\nprint(new_word)",
      "metadata": {
        "trusted": true
      },
      "outputs": [
        {
          "name": "stdout",
          "text": "A,p,p,l,e\n",
          "output_type": "stream"
        }
      ],
      "execution_count": 48
    },
    {
      "cell_type": "code",
      "source": "def remove(sentence):\n    return sentence.replace(\"Apple\",\"\")\nsen=\"Apple is red.Apple is sweet.Apple juice.\"\nremove(sen)",
      "metadata": {
        "trusted": true
      },
      "outputs": [
        {
          "execution_count": 49,
          "output_type": "execute_result",
          "data": {
            "text/plain": "' is red. is sweet. juice.'"
          },
          "metadata": {}
        }
      ],
      "execution_count": 49
    },
    {
      "cell_type": "code",
      "source": "def replace(sentence):\n    result = ''\n    cap_next = True \n    for ch in sentence:\n        if ch == ' ':\n            result += ch\n            cap_next = True\n        elif cap_next and 'a' <= ch <= 'z':\n            result += chr(ord(ch) - 32)\n            cap_next = False\n        elif not cap_next and 'A' <= ch <= 'Z':\n            result += chr(ord(ch) + 32)\n        else:\n            result += ch\n            cap_next = False\n    \n    return result\nsent=\"praCtice makes wOman perfeCt\"\nprint(replace(sent))",
      "metadata": {
        "trusted": true
      },
      "outputs": [
        {
          "name": "stdout",
          "text": "Practice Makes Woman Perfect\n",
          "output_type": "stream"
        }
      ],
      "execution_count": 50
    },
    {
      "cell_type": "code",
      "source": "def binary",
      "metadata": {
        "trusted": true
      },
      "outputs": [],
      "execution_count": null
    }
  ]
}