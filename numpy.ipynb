{
  "metadata": {
    "kernelspec": {
      "name": "python",
      "display_name": "Python (Pyodide)",
      "language": "python"
    },
    "language_info": {
      "codemirror_mode": {
        "name": "python",
        "version": 3
      },
      "file_extension": ".py",
      "mimetype": "text/x-python",
      "name": "python",
      "nbconvert_exporter": "python",
      "pygments_lexer": "ipython3",
      "version": "3.8"
    },
    "widgets": {
      "application/vnd.jupyter.widget-state+json": {
        "version_major": 2,
        "version_minor": 0,
        "state": {}
      }
    }
  },
  "nbformat_minor": 4,
  "nbformat": 4,
  "cells": [
    {
      "cell_type": "code",
      "source": "import numpy as np",
      "metadata": {
        "trusted": true
      },
      "outputs": [],
      "execution_count": 17
    },
    {
      "cell_type": "code",
      "source": "a=np.array([1,2,3,4])  #1d array\nprint(a)",
      "metadata": {
        "trusted": true
      },
      "outputs": [
        {
          "name": "stdout",
          "text": "[1 2 3 4]\n",
          "output_type": "stream"
        }
      ],
      "execution_count": 2
    },
    {
      "cell_type": "code",
      "source": "print(a[:2])",
      "metadata": {
        "trusted": true
      },
      "outputs": [
        {
          "name": "stdout",
          "text": "[1 2]\n",
          "output_type": "stream"
        }
      ],
      "execution_count": 3
    },
    {
      "cell_type": "code",
      "source": "import time  #list time\nlst = [1] * 10**6\nstart = time.time()\nlst = [x + 2 for x in lst]\nprint(\"List operation time:\", time.time() - start)",
      "metadata": {
        "trusted": true
      },
      "outputs": [
        {
          "name": "stdout",
          "text": "List operation time: 0.05099987983703613\n",
          "output_type": "stream"
        }
      ],
      "execution_count": 4
    },
    {
      "cell_type": "code",
      "source": "arr = np.ones(10**6)   #numpy time\nstart = time.time()\narr = arr + 2\nprint(\"NumPy operation time:\", time.time() - start)",
      "metadata": {
        "trusted": true
      },
      "outputs": [
        {
          "name": "stdout",
          "text": "NumPy operation time: 0.0019998550415039062\n",
          "output_type": "stream"
        }
      ],
      "execution_count": 6
    },
    {
      "cell_type": "code",
      "source": "b=np.array([[1,2,3],[4,5,6],[7,8,9]])  #2d array\nprint(b)\nprint(b.shape)",
      "metadata": {
        "trusted": true
      },
      "outputs": [
        {
          "name": "stdout",
          "text": "[[1 2 3]\n [4 5 6]\n [7 8 9]]\n(3, 3)\n",
          "output_type": "stream"
        }
      ],
      "execution_count": 7
    },
    {
      "cell_type": "code",
      "source": "print(b[1,0])",
      "metadata": {
        "trusted": true
      },
      "outputs": [
        {
          "name": "stdout",
          "text": "4\n",
          "output_type": "stream"
        }
      ],
      "execution_count": 8
    },
    {
      "cell_type": "code",
      "source": "arr = np.array([[[1, 2, 3, 4], [5, 6, 7, 8], [9, 10, 11, 12]],\n                [[13, 14, 15, 16], [17, 18, 19, 20], [21, 22, 23, 24]]])   #3d array\nprint(arr)\nprint(arr.shape)",
      "metadata": {
        "trusted": true
      },
      "outputs": [
        {
          "name": "stdout",
          "text": "[[[ 1  2  3  4]\n  [ 5  6  7  8]\n  [ 9 10 11 12]]\n\n [[13 14 15 16]\n  [17 18 19 20]\n  [21 22 23 24]]]\n(2, 3, 4)\n",
          "output_type": "stream"
        }
      ],
      "execution_count": 9
    },
    {
      "cell_type": "code",
      "source": "#creating array from list\nlis=[1,2,3,4,5]\narray_Lis=np.array(lis)\narray_Lis\n\n#if list has diff types\nlis1=[1,2.5,3,4,5.6]\narray_lis=np.array(lis1)\narray_lis",
      "metadata": {
        "trusted": true
      },
      "outputs": [
        {
          "execution_count": 10,
          "output_type": "execute_result",
          "data": {
            "text/plain": "array([1. , 2.5, 3. , 4. , 5.6])"
          },
          "metadata": {}
        }
      ],
      "execution_count": 10
    },
    {
      "cell_type": "code",
      "source": "print(arr.ndim)\nprint(arr.shape)\nprint(arr.size)\nprint(arr.dtype)",
      "metadata": {
        "trusted": true
      },
      "outputs": [
        {
          "name": "stdout",
          "text": "3\n(2, 3, 4)\n24\nint32\n",
          "output_type": "stream"
        }
      ],
      "execution_count": 11
    },
    {
      "cell_type": "code",
      "source": "print(array_lis.dtype)\nprint(array_lis.shape)\nprint(b.shape)",
      "metadata": {
        "trusted": true
      },
      "outputs": [
        {
          "name": "stdout",
          "text": "float64\n(5,)\n(3, 3)\n",
          "output_type": "stream"
        }
      ],
      "execution_count": 12
    },
    {
      "cell_type": "code",
      "source": "#ones and zeros\nprint(np.zeros(5,dtype='int32'))    #data-type change\nprint(np.ones(5))\nprint(np.arange(10,60,10))          #arange function\nprint(np.linspace(0,10,5))          #linspace function\nprint(np.empty(3,dtype='S'))        #empty function",
      "metadata": {
        "trusted": true
      },
      "outputs": [
        {
          "name": "stdout",
          "text": "[0 0 0 0 0]\n[1. 1. 1. 1. 1.]\n[10 20 30 40 50]\n[ 0.   2.5  5.   7.5 10. ]\n[b'\\xb8' b'7' b'P']\n",
          "output_type": "stream"
        }
      ],
      "execution_count": 13
    },
    {
      "cell_type": "code",
      "source": "print(b)\nreshaped_array=np.reshape(b,(1,9),order='C')     #reshape\nprint(\"Reshaped array: \",reshaped_array)\n\nprint(\"Transpose of matrix: \",b.transpose())                #transpose\n\nraveled_array=np.ravel(b)    #ravel\nprint(\"Ravelled array: \",raveled_array)\n\nb.flatten()                  #flatten",
      "metadata": {
        "trusted": true
      },
      "outputs": [
        {
          "name": "stdout",
          "text": "[[1 2 3]\n [4 5 6]\n [7 8 9]]\nReshaped array:  [[1 2 3 4 5 6 7 8 9]]\nTranspose of matrix:  [[1 4 7]\n [2 5 8]\n [3 6 9]]\nRavelled array:  [1 2 3 4 5 6 7 8 9]\n",
          "output_type": "stream"
        },
        {
          "execution_count": 72,
          "output_type": "execute_result",
          "data": {
            "text/plain": "array([1, 2, 3, 4, 5, 6, 7, 8, 9])"
          },
          "metadata": {}
        }
      ],
      "execution_count": 72
    },
    {
      "cell_type": "code",
      "source": "#array operations\na1=np.array([1,2,3,4,5,6])\nprint(\"Sum of elements in 1d array: \",a1.sum()) \nprint(\"Max element in 1d array: \",a1.max())\nprint(\"Min element in 1d array: \",a1.min())\n\nb1=np.array([[1,2],[3,4]])\nb2=np.array([[2,1],[4,3]])\nprint(\"2D array:\")\nprint(b1)\n\nprint(\"column addition: \",b1.sum(axis=0))\nprint(\"row addition: \",b1.sum(axis=1))",
      "metadata": {
        "trusted": true
      },
      "outputs": [
        {
          "name": "stdout",
          "text": "Sum of elements in 1d array:  21\nMax element in 1d array:  6\nMin element in 1d array:  1\n2D array:\n[[1 2]\n [3 4]]\ncolumn addition:  [4 6]\nrow addition:  [3 7]\n",
          "output_type": "stream"
        }
      ],
      "execution_count": 37
    },
    {
      "cell_type": "code",
      "source": "print(\"Broadcasting: \",a1*2)\nprint(b1+b2)\n# print(a1+b1) this will get value error because a1 is 1D and b1 is 2D",
      "metadata": {
        "trusted": true
      },
      "outputs": [
        {
          "name": "stdout",
          "text": "Broadcasting:  [ 2  4  6  8 10 12]\n[[3 3]\n [7 7]]\n",
          "output_type": "stream"
        }
      ],
      "execution_count": 36
    },
    {
      "cell_type": "code",
      "source": "random_no=np.random.rand(3)          #1D matrix\nprint(random_no)\nrandom_nos=np.random.rand(2,2)       #2D matrix\nprint(random_nos)",
      "metadata": {
        "trusted": true
      },
      "outputs": [
        {
          "name": "stdout",
          "text": "[0.2875374  0.33009038 0.75077505]\n[[0.94770293 0.60780973]\n [0.94621541 0.38802795]]\n",
          "output_type": "stream"
        }
      ],
      "execution_count": 57
    },
    {
      "cell_type": "code",
      "source": "rns=np.random.randint(1,10,size=(3,3))   #within range\nprint(rns)\nrnn=np.random.normal(5,2,size=(3,3))   #normal distribution\nprint(rnn)\nsample = np.random.choice([1, 2, 3, 4, 5], size=3)  # Random sample of 3 elements from the list\nprint(sample)",
      "metadata": {
        "trusted": true
      },
      "outputs": [
        {
          "name": "stdout",
          "text": "[[7 8 8]\n [4 6 9]\n [7 7 8]]\n[[8.01787261 4.78971775 2.88902532]\n [3.58578085 3.57163888 5.8197136 ]\n [5.50045966 4.9290087  5.72452807]]\n[5 4 3]\n",
          "output_type": "stream"
        }
      ],
      "execution_count": 59
    },
    {
      "cell_type": "code",
      "source": "a2=[1,1,2,3,3,3,4,5]\nprint(\"Unique elements in array: \",np.unique(a2))                                       #unique\nunique_values, indices_list,count= np.unique(a2, return_index=True,return_counts=True)\nprint(unique_values,indices_list,count)\n\nprint(\"Reverse array: \",np.flip(a2))                                                   #reverse array",
      "metadata": {
        "trusted": true
      },
      "outputs": [
        {
          "name": "stdout",
          "text": "Unique elements in array:  [1 2 3 4 5]\n[1 2 3 4 5] [0 2 3 6 7] [2 1 3 1 1]\nReverse array:  [5 4 3 3 3 2 1 1]\n",
          "output_type": "stream"
        }
      ],
      "execution_count": 75
    },
    {
      "cell_type": "code",
      "source": "np.save('samplepy.py',a2)\nnp.savetxt('sampletxt.csv',a2)",
      "metadata": {
        "trusted": true
      },
      "outputs": [],
      "execution_count": null
    },
    {
      "cell_type": "code",
      "source": "y= np.array([1, 2, 3,4,5,6])\nresult = np.split(y,3) \nprint(result)",
      "metadata": {
        "trusted": true
      },
      "outputs": [],
      "execution_count": null
    },
    {
      "cell_type": "code",
      "source": "",
      "metadata": {
        "trusted": true
      },
      "outputs": [],
      "execution_count": null
    }
  ]
}
